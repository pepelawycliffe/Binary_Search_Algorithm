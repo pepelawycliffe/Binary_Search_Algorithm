{
 "cells": [
  {
   "cell_type": "code",
   "execution_count": 4,
   "metadata": {},
   "outputs": [],
   "source": [
    "\"\"\" Binary Search Algorithm \n",
    "----------------------------------------\n",
    "\"\"\"\n",
    "# iterative implementation of binary search in Python\n",
    "def binary_search(a_list, item):\n",
    "    \"\"\"Performs iterative binary search to find the position of an integer in a given, sorted, list.\n",
    "    a_list -- sorted list of integers\n",
    "    item -- integer you are searching for the position of\n",
    "    \"\"\"\n",
    "    first = 0\n",
    "    last = len(a_list) - 1\n",
    "    while first <= last:\n",
    "        i = (first + last) / 2\n",
    "        if a_list[i] == item:\n",
    "            return ' found at position '.format(item=item, i=i)\n",
    "        elif a_list[i] > item:\n",
    "            last = i - 1\n",
    "        elif a_list[i] < item:\n",
    "            first = i + 1\n",
    "        else:\n",
    "            return ' not found in the list'.format(item=item)\n",
    "# recursive implementation of binary search in Python\n",
    "def binary_search_recursive(a_list, item):\n",
    "    \"\"\"Performs recursive binary search of an integer in a given, sorted, list.\n",
    "    a_list -- sorted list of integers\n",
    "    item -- integer you are searching for the position of\n",
    "    \"\"\"\n",
    "    first = 0\n",
    "    last = len(a_list) - 1\n",
    "    if len(a_list) == 0:\n",
    "        return ' was not found in the list'.format(item=item)\n",
    "    else:\n",
    "        i = (first + last) // 2\n",
    "        if item == a_list[i]:\n",
    "            return ' found'.format(item=item)\n",
    "        else:\n",
    "            if a_list[i] < item:\n",
    "                return binary_search_recursive(a_list[i+1:], item)\n",
    "            else:\n",
    "                return binary_search_recursive(a_list[:i], item)"
   ]
  },
  {
   "cell_type": "code",
   "execution_count": null,
   "metadata": {},
   "outputs": [],
   "source": []
  }
 ],
 "metadata": {
  "kernelspec": {
   "display_name": "Python 3",
   "language": "python",
   "name": "python3"
  },
  "language_info": {
   "codemirror_mode": {
    "name": "ipython",
    "version": 3
   },
   "file_extension": ".py",
   "mimetype": "text/x-python",
   "name": "python",
   "nbconvert_exporter": "python",
   "pygments_lexer": "ipython3",
   "version": "3.8.3"
  }
 },
 "nbformat": 4,
 "nbformat_minor": 4
}
